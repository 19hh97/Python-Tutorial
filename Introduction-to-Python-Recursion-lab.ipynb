{
 "cells": [
  {
   "cell_type": "markdown",
   "metadata": {
    "button": false,
    "new_sheet": false,
    "run_control": {
     "read_only": false
    }
   },
   "source": [
    "<div style=\"text-align: right\">INFO 6105 Data Science Eng Methods and Tools, Lecture 2 Day 2</div>\n",
    "<div style=\"text-align: right\">Dino Konstantopoulos, 28 January 2021</div>\n",
    "\n",
    "# Labs in Python: Iteration & Recursion\n",
    "\n",
    "\n",
    "## DNA, RNA, Proteins\n",
    "\n",
    "<left>\n",
    "<img src=\"ipynb.images/dna.gif\" width=400 />\n",
    "</left>\n",
    "\n",
    "**Ribonucleic acid** (RNA, along with **DNA** and **proteins**, is one of the three major biological macromolecules that are essential for all known forms of life on our planet. A central tenet of molecular biology states that the flow of genetic information in a cell is from DNA through RNA to proteins: ***DNA makes RNA makes protein***. \n",
    "\n",
    "Proteins are the workhorses of the cell; they play leading roles in the cell as enzymes, as structural components, and in cell signaling, to name just a few. \n",
    "\n",
    "DNA(deoxyribonucleic acid) is considered the *blueprint* of the cell; it carries all of the genetic information required for the cell to grow, to take in nutrients, and to propagate. \n",
    "\n",
    "RNA–in this role–is the *DNA photocopy* of the cell. When the cell needs to produce a certain protein, it activates the protein’s gene–the portion of DNA that codes for that protein–and produces multiple copies of that piece of DNA in the form of **messenger RNA**, or mRNA. \n",
    "\n",
    "The multiple copies of mRNA are then used to translate the genetic code into protein through the action of the cell’s protein manufacturing machinery, the **ribosomes**. Thus, RNA expands the quantity of a given protein that can be made at one time from one given gene, and it provides an important control point for regulating when and how much protein gets made.\n",
    "\n",
    "**mRNA vaccines** are a new type of vaccine to protect against infectious diseases. To trigger an immune response, many vaccines put a weakened or inactivated germ into our bodies. Not mRNA vaccines. Instead, they ***teach*** our cells how to make a protein—or even just a piece of a protein—that triggers an immune response inside our bodies. \n",
    "\n",
    "That immune response, which produces antibodies, is what protects us from getting infected if the real virus enters our bodies.\n",
    "\n",
    "COVID-19 mRNA vaccines give instructions for our cells to make a harmless piece of what is called the “spike protein.” The spike protein is found on the surface of the virus that causes COVID-19.\n",
    "\n",
    "COVID-19 mRNA vaccines are given in the upper arm muscle. Once the instructions (mRNA) are inside the immune cells, the cells use them to make the protein piece. After the protein piece is made, the cell breaks down the instructions and gets rid of them.\n",
    "\n",
    "But now the protein piece is on the surface of a cell. Our immune systems recognize that the protein doesn’t belong there and begin building an immune response and making antibodies, like what happens in natural infection against COVID-19.\n",
    "\n",
    "At the end of the process, our bodies have learned how to protect against future infection. The benefit of mRNA vaccines, like all vaccines, is those vaccinated gain this protection without ever having to risk the serious consequences of getting sick with COVID-19. The beauty of the mRNA vaccine is thatinstead of giving our body a weakened virus to learn how to defeat, we teach it how to build one of the key proteins of the virus instead. It builds the protein, the body recognizes it as foreign, that triggers an immune response, and now your body know how to defend itself. Beauuuuutiful.\n",
    "\n",
    "That all started in a little lab on the other side of the Charles River, at [Moderna](https://en.wikipedia.org/wiki/Moderna), in Cambridge, Massachusetts (and also, [Pfizer] in NYC, a four-hour drive from here).\n",
    "\n",
    "<br />\n",
    "<left>\n",
    "<img src=\"ipynb.images/minion-wow.gif\" width=600 />\n",
    "</left>\n",
    "\n",
    "The beauty of this machinery of life is how it uses smaller building blocks (DNA, RNA) to build bigger building blocks (proteins). Computer Science posesses this beauty, too. **Iteration** and **recursion** are key Computer Science techniques used in creating algorithms and developing software.\n",
    "\n",
    "In simple terms, an iterative function is one that loops to repeat some part of the code, and a recursive function is one that calls itself again *within itself*, in order to repeat the code. \n",
    "\n",
    "Using a simple **for loop** to display list contents is an **iterative process**. Examples of simple recursive processes aren't easy to find, but solving the [Tower of Hanoi](https://www.mathsisfun.com/games/towerofhanoi.html) are common examples."
   ]
  },
  {
   "cell_type": "markdown",
   "metadata": {},
   "source": [
    "Moving up the scale of biological systems, the amazingly fluid, yet highly robust process of organismal development has been source of interest for as long as there have been microscopes.\n",
    "\n",
    "Python is an excellent platform to explore the nature of development via the generative power of\n",
    "simple rules or behaviour. This is a powerful idea, because even very simple rules, iterated over\n",
    "time can generate complex and unpredictable patterns. From the flocking behaviour of birds to the\n",
    "swarming of bees, biology is replete with examples where simple behaviours generate endlessly\n",
    "fascinating patterns - an area of study that has become known as **complex adaptive systems**.\n",
    "\n",
    "## Plants\n",
    "Let's grow plants in your computer as Austrian biologist [Aristid Lindenmayer](https://en.wikipedia.org/wiki/Aristid_Lindenmayer) did back in 1968 by modeling growth and development as found in filamentous organisms such as algae.\n",
    "\n",
    "Lindenmayer began by imagining a single one-dimensional line of cells, with any individual cell\n",
    "receiving signals to either divide or grow only from their immediate left or right neighbor. He allowed\n",
    "that each individual algae cell existed in one of two possible states: reproduction or growth. \n",
    "\n",
    "A cell in the reproduction state, would split into two cells: one that would start in the growth state, and the\n",
    "other would stay in the reproduction state. In addition, a cell that started in the growth state would\n",
    "eventually become a reproduction cell. \n",
    "\n",
    "Putting these two rules together Lindenmayer came up with a\n",
    "model of filamentous growth that captured some key features of real growth in plants such as \n",
    "constant apical growth where the central “stem” (in the model this is a set of cells) remains the\n",
    "same in appearance even as cells divide and move away from this central set of cells. "
   ]
  },
  {
   "cell_type": "markdown",
   "metadata": {},
   "source": [
    "The heart of translating this idea into code is defining these biological intuitions as rigorous\n",
    "algorithmic **production rules**. You can take the above two intuitions and codify them into two simple\n",
    "rules. \n",
    "\n",
    "Call a cell in the reproduction state, A, and a cell in the growth state, B. A production rule\n",
    "basically says, take a symbol on the left-hand side and replace it with another set of symbols on the\n",
    "right-hand side. Here’s what it looks like:\n",
    "\n",
    "* B → A (rule #1: growth cell becomes a reproduction cell)\n",
    "* A → AB (rule #2: reproduction cell splits into another reproduction, plus a growth cell)\n",
    "\n",
    "To complete the algorithm, we simply need to give the algorithm a cell to kick things off, say a\n",
    "reproduction cell, A. \n",
    "\n",
    "We can run growth *by hand* by starting with A, then noticing that A is not a growth cell, so the first rule doesn’t apply, but it is a reproduction cell, so we do apply the second rule. We now have a reproduction cell and growth cell,\n",
    "or: AB.\n",
    "\n",
    "Let’s run the rules again, in this case the reproduction cell A will again become AB and the second\n",
    "growth cell B will become a growth cell again, resulting in AB + A, or ABA. Keep doing this and\n",
    "you get ABA -> ABAAB -> ABAABABA and so on. \n",
    "\n",
    "Write a functrion below which takes as input the number of generations you want to run, starts with a single \"A\" cell, and returns the resulting algae.\n",
    "\n",
    "<br />\n",
    "<br />\n",
    "<br />\n",
    "<br />\n",
    "<left>\n",
    "<img src=\"ipynb.images/algae2.jpg\" width=600 />\n",
    "</left>"
   ]
  },
  {
   "cell_type": "markdown",
   "metadata": {},
   "source": [
    "<div style=\"visibility: hidden\">\n",
    "    for i in range(number):\n",
    "        new_output = \"\"\n",
    "        for letter in output:\n",
    "            if letter == \"A\": # rule #2\n",
    "                new_output += \"AB\"\n",
    "            elif letter == \"B\": # rule #1\n",
    "                new_output += \"A\"\n",
    "        output = new_output # only update state after all letters are read\n",
    "        if show: print(\"n =\", i+1, output, \"[\", len(output), \"]\")\n",
    "    return output\n",
    "</div>"
   ]
  },
  {
   "cell_type": "markdown",
   "metadata": {},
   "source": [
    "Fill-in the ellipses (`...`) below:"
   ]
  },
  {
   "cell_type": "code",
   "execution_count": null,
   "metadata": {},
   "outputs": [],
   "source": [
    "def algae_growth(number, output=\"A\", show=False):\n",
    "    ...\n",
    "    return output"
   ]
  },
  {
   "cell_type": "markdown",
   "metadata": {},
   "source": [
    "The outer loop, runs through number iterations, storing the result in the variable output. \n",
    "\n",
    "At the\n",
    "beginning of each loop, we reinitialize our new_output to the empty string “”. \n",
    "\n",
    "Then we take our\n",
    "existing output and use an inner for loop to go through it letter by letter. \n",
    "\n",
    "For the current letter in\n",
    "the loop, we check whether it is an A or B. \n",
    "\n",
    "If it is an A, we simply append the two new letters to our\n",
    "new_output string using the “+=” operator. \n",
    "\n",
    "Likewise if it is a B, we append an A. \n",
    "\n",
    "Once we have\n",
    "examined that letter, we now assign the new_output back to output to start the process all over\n",
    "again for the next iteration of growth and reproduction (the outer loop).\n",
    "\n",
    "Let’s put this all together in short main program and grow this algae already!"
   ]
  },
  {
   "cell_type": "code",
   "execution_count": null,
   "metadata": {},
   "outputs": [],
   "source": [
    "print(\"n = 0\", \"A\", \"[ 1 ]\")\n",
    "algae_growth(6, output=\"A\", show=True) "
   ]
  },
  {
   "cell_type": "markdown",
   "metadata": {},
   "source": [
    "Note that after only six iterations, we already have very interesting patterns. We’ve also printed out\n",
    "the length of each of the iterations of the cycle. \n",
    "\n",
    "Alert students will have noticed an interesting pattern: The numbers represent the **Fibonacci sequence** !\n",
    "\n",
    "This is actually pretty incredible when you think about it:\n",
    "a set of two very simple rules iterated over and over can produce a sequence of cells the number of\n",
    "which is deeply connected to one of the most fundamental mathematical sequences found in the\n",
    "arrangement of leaves on stem and the formation of pinecones. \n",
    "\n",
    "We can also see the constant apical\n",
    "growth mentioned at the beginning: the ABA pattern at the left-hand hand remains even as the growth\n",
    "continues.\n",
    "\n",
    "Can we use these ideas to generate something that actually ***looks like a plant***? The answer is, yes. To realize this requires a set of rules with a more complicated language, but still using the same basic simple logic. "
   ]
  },
  {
   "cell_type": "markdown",
   "metadata": {},
   "source": [
    "## Plant production rules\n",
    "\n",
    "We first imagine the **plant**, let’s imagine it as a [fern](https://en.wikipedia.org/wiki/Fern), growing on a two dimensional (2D) surface. \n",
    "\n",
    "Here the outputs of the L-system are actually instructions telling the plant where on this 2D\n",
    "surface to “grow” next. There are six basic symbols, which can be thought of as representing a\n",
    "developmental **command**.\n",
    "\n",
    "* ```F``` = go forward\n",
    "* ```X``` = stay\n",
    "* ```+``` = turn right 25 degrees\n",
    "* ```-``` = turn left 25 degrees\n",
    "* ```[``` = save current (x, y) position\n",
    "* ```]``` = go back to saved (x, y) position\n",
    "\n",
    "The production rules treat F and X as variables (meaning that only those two symbols are expanded\n",
    "into other symbols), and +, -, [, ] are constants (they are terminal symbols: symbols that don’t get\n",
    "expanded into anything else). So without further ado, here are the two rules:\n",
    "\n",
    "* ```F``` → ```FF```\n",
    "* ```X``` → ```F−[[X]+X]+F[+FX]−X```\n",
    "\n",
    "OK, so these are definitely more complicated than the previous rules, but they work basically the\n",
    "same. Every time you see an ```F```, replace it with an ```FF```, everytime you see an ```X```, replace it with that\n",
    "monstrosity on the right! That long expression embeds within it commands for the plant to move\n",
    "forward, some commands to rotate left and right and to save and restore position. Think of it like a\n",
    "little genetic program playing out in real time."
   ]
  },
  {
   "cell_type": "code",
   "execution_count": null,
   "metadata": {},
   "outputs": [],
   "source": [
    "def plant_growth(number, output=\"X\", show=False):\n",
    "    for i in range(number):\n",
    "        new_output = \"\"\n",
    "        for letter in output:\n",
    "            # rule #1\n",
    "            if letter == \"X\":\n",
    "                new_output += \"F-[[X]+X]+F[+FX]-X\"\n",
    "            elif letter == \"F\":\n",
    "                new_output += \"FF\"\n",
    "            else:\n",
    "                new_output += letter\n",
    "        output = new_output\n",
    "        if show: print(\"n =\", i+1, output, \"[\", len(output), \"]\")\n",
    "    return output"
   ]
  },
  {
   "cell_type": "code",
   "execution_count": null,
   "metadata": {},
   "outputs": [],
   "source": [
    "plant=plant_growth(3, output=\"X\", show=True)"
   ]
  },
  {
   "cell_type": "markdown",
   "metadata": {},
   "source": [
    "Let's use a python package called ```turtle``` to learn how to draw, first. Let's start with a square.\n",
    "\n",
    "This will be our first package external to Anaconda. \n",
    "\n",
    "To install the package, run an Anaconda terminal on Windows and run ```conda install turtle```. If that does not work, try ```pip install turtle```. On the Mac, use a bash shell. \n",
    "\n",
    "Then, run the cell below."
   ]
  },
  {
   "cell_type": "code",
   "execution_count": null,
   "metadata": {},
   "outputs": [],
   "source": [
    "import turtle\n",
    "import sys\n",
    "from turtle import Turtle\n",
    "t=Turtle()\n",
    "#t.screen.bgcolor(\"black\")\n",
    "t.color(\"red\")\n",
    "t.hideturtle()\n",
    " \n",
    "def square(length):\n",
    "    for steps in range(4):\n",
    "        t.fd(length)\n",
    "        t.left(90)\n",
    " \n",
    "square(100)"
   ]
  },
  {
   "cell_type": "markdown",
   "metadata": {},
   "source": [
    "You will notice that as soon as you run the cell above, a new window is created and turtle graphics will get drawn in that window.\n",
    "\n",
    "Here's another interesting piece of turtle graphics:"
   ]
  },
  {
   "cell_type": "code",
   "execution_count": null,
   "metadata": {},
   "outputs": [],
   "source": [
    "import random\n",
    "from turtle import Turtle\n",
    "\n",
    "t=Turtle()\n",
    "t.screen.bgcolor(\"black\")\n",
    " \n",
    "def random_drawing(turns,distance):\n",
    "    for x in range(turns):\n",
    "        right=t.right(random.randint(0,360))\n",
    "        left=t.left(random.randint(0,360))\n",
    "        t.color(random.choice([\"blue\",\"red\",\"green\"]))\n",
    "        random.choice([right,left])\n",
    "        t.fd(distance)\n",
    " \n",
    "random_drawing(100,50)"
   ]
  },
  {
   "cell_type": "markdown",
   "metadata": {},
   "source": [
    "Let's write a function that draws a triangle with turtle graphics:"
   ]
  },
  {
   "cell_type": "code",
   "execution_count": null,
   "metadata": {},
   "outputs": [],
   "source": [
    "def draw_triangle(points, color, my_turtle):\n",
    "    my_turtle.penup()\n",
    "    my_turtle.goto(points[0][0],points[0][1])\n",
    "    my_turtle.pendown()\n",
    "    my_turtle.stroke = color\n",
    "    #my_turtle.fill_color = Color(128, 0, 128)\n",
    "    my_turtle.goto(points[1][0], points[1][1])\n",
    "    my_turtle.goto(points[2][0], points[2][1])\n",
    "    my_turtle.goto(points[0][0], points[0][1])"
   ]
  },
  {
   "cell_type": "markdown",
   "metadata": {},
   "source": [
    "Here's a utility function that returns a point midway between 2 points, where we assume each point has two coordinates x and y:"
   ]
  },
  {
   "cell_type": "code",
   "execution_count": null,
   "metadata": {},
   "outputs": [],
   "source": [
    "def get_mid(p1, p2):\n",
    "    return ((p1[0] + p2[0]) / 2, (p1[1] + p2[1]) / 2)"
   ]
  },
  {
   "cell_type": "markdown",
   "metadata": {},
   "source": [
    "## The Sierpinski Triangle\n",
    "\n",
    "The [Sierpinski triangle](https://en.wikipedia.org/wiki/Sierpinski_triangle) is a fractal described in 1915 by Waclaw Sierpinski. It is a **self-similar** structure that occurs at different levels of iterations, or magnifications. \n",
    "\n",
    "You begin the pattern by finding the midpoints of the line segments of the largest triangle. Then, by connecting these midpoints, smaller triangles are created. This pattern is then repeated for the smaller triangles, and essentially has infinitely many possible iterations.\n",
    "\n",
    "We will build a sierpinski triangle generating function to illustrate [recursion](https://en.wikipedia.org/wiki/Recursion), now."
   ]
  },
  {
   "cell_type": "code",
   "execution_count": null,
   "metadata": {},
   "outputs": [],
   "source": [
    "def sierpinski(points, degree, my_turtle):\n",
    "    #color = Color(*color_map[degree][1])\n",
    "    color = my_turtle.color(\"red\")\n",
    "    draw_triangle(points, color, my_turtle)\n",
    "    \n",
    "    #clear_output(wait=True)\n",
    "    #display(canvas)\n",
    "    #time.sleep(0.5)\n",
    "    \n",
    "    #canvas.fill(color)\n",
    "    if degree > 0:\n",
    "       sierpinski(\n",
    "                  [points[0], get_mid(points[0], points[1]), get_mid(points[0], points[2])],\n",
    "                  degree-1, my_turtle)\n",
    "       sierpinski(\n",
    "                  [points[1], get_mid(points[0], points[1]), get_mid(points[1], points[2])],\n",
    "                  degree-1, my_turtle)\n",
    "       sierpinski(\n",
    "                  [points[2], get_mid(points[2], points[1]), get_mid(points[0], points[2])],\n",
    "                  degree-1, my_turtle)"
   ]
  },
  {
   "cell_type": "markdown",
   "metadata": {},
   "source": [
    "Let's use turtle graphics to print it!"
   ]
  },
  {
   "cell_type": "code",
   "execution_count": null,
   "metadata": {},
   "outputs": [],
   "source": [
    "from turtle import Turtle\n",
    "#canvas = Canvas(size=(800, 800))\n",
    "#my_turtle = Turtle(canvas, (399, 399))\n",
    "my_turtle = Turtle()\n",
    "my_turtle.extras = {}\n",
    "#my_points = [(40, 10), (10, 50), (70, 50)]\n",
    "my_points = [(160, 40), (40, 200), (280, 200)]\n",
    "\n",
    "color_map = [(\"blue\", (0, 51, 153)),\n",
    "             ('red', (153, 51, 51)), \n",
    "             ('green', (0, 153, 51)),\n",
    "             ('white', (255, 255, 255)),\n",
    "             ('yellow', (230, 230, 0)),\n",
    "             ('violet', (172, 0, 230)),\n",
    "             ('orange', (230, 172, 0))]\n",
    "#color = Color(*color_map[degree][1])\n",
    "color = my_turtle.color(\"red\")\n",
    "\n",
    "#draw_triangle(my_points, color, my_turtle)\n",
    "sierpinski(my_points, 5, my_turtle)"
   ]
  },
  {
   "cell_type": "markdown",
   "metadata": {},
   "source": [
    "We're going to draw that fern, eventually, but let's turn our attention to the inner mechanisms of iteration and recursion."
   ]
  },
  {
   "cell_type": "markdown",
   "metadata": {},
   "source": [
    "# Simple examples of iteration and recursion\n",
    "\n",
    "Let's write a function, `list_sum()`, which takes in a Python container object and sums its contents. "
   ]
  },
  {
   "cell_type": "code",
   "execution_count": null,
   "metadata": {},
   "outputs": [],
   "source": [
    "# non-recursive, iterative solution\n",
    "def list_sum(nums):\n",
    "    the_sum = 0\n",
    "    for i in nums:\n",
    "        the_sum += i\n",
    "    return the_sum"
   ]
  },
  {
   "cell_type": "markdown",
   "metadata": {},
   "source": [
    "Let's use it!"
   ]
  },
  {
   "cell_type": "code",
   "execution_count": null,
   "metadata": {},
   "outputs": [],
   "source": [
    "import random\n",
    "nums = random.choices(range(100), k=10)\n",
    "nums"
   ]
  },
  {
   "cell_type": "code",
   "execution_count": null,
   "metadata": {},
   "outputs": [],
   "source": [
    "list_sum(nums)"
   ]
  },
  {
   "cell_type": "code",
   "execution_count": null,
   "metadata": {},
   "outputs": [],
   "source": [
    "sum(nums)"
   ]
  },
  {
   "cell_type": "markdown",
   "metadata": {},
   "source": [
    "Now let's write the recursive analog of this function, which we'll call `list_sum_r()`:"
   ]
  },
  {
   "cell_type": "code",
   "execution_count": null,
   "metadata": {},
   "outputs": [],
   "source": [
    "def list_sum_r(nums):\n",
    "    if len(nums) == 1:  # Base Case\n",
    "        return nums[0]\n",
    "    else:\n",
    "        return nums[0] + list_sum_r(nums[1:]) "
   ]
  },
  {
   "cell_type": "code",
   "execution_count": null,
   "metadata": {},
   "outputs": [],
   "source": [
    "list_sum_r(nums)"
   ]
  },
  {
   "cell_type": "markdown",
   "metadata": {},
   "source": [
    "Do you see the way it works? It uses a computation pattern called **divide and conquer**. What it does is it takes one of the numbers in the list, $x$ and sums it to the rest by calling itself with a slightly smaller list than initially: the list minus the number $x$. Eventually, when the number of elements in the list reduces to 1, the recursive function ends the recursion by returning that last number.\n",
    "\n",
    "The best way to think about recursion in my opinion is to tahking about having multiple conversations: You start talking with Joe, then Sue interrupts, you freeze the conversation with Joe (and Joe alongside it), and you continue with Sue. Then Sam interrupts, so you freeze Sue, and continue on with Sam. When Sam is done, you unfreeze Sue. When Sue is done, you unfreeze Joe. And then you're done. \n",
    "\n",
    "And nothing stops you from talking about Joe while he's frozen and you're talking to Sue. So this [russian dolls](https://en.wikipedia.org/wiki/Matryoshka_doll) process should not throw you off.\n",
    "\n",
    "Python's *sys* module has a limit to the number of conversation freezes it can handle, though. And that is because Python, just like you, needs a *lot of memory* to store all frozen conversations!"
   ]
  },
  {
   "cell_type": "code",
   "execution_count": null,
   "metadata": {},
   "outputs": [],
   "source": [
    "import sys\n",
    "sys.getrecursionlimit()"
   ]
  },
  {
   "cell_type": "markdown",
   "metadata": {},
   "source": [
    "Now here is the [factorial function](https://en.wikipedia.org/wiki/Factorial) in recursive form:"
   ]
  },
  {
   "cell_type": "code",
   "execution_count": null,
   "metadata": {},
   "outputs": [],
   "source": [
    "def fact(n):\n",
    "    if n == 0:  # 0! == 1\n",
    "        return 1\n",
    "    else:\n",
    "        return n * fact(n - 1)"
   ]
  },
  {
   "cell_type": "code",
   "execution_count": null,
   "metadata": {},
   "outputs": [],
   "source": [
    "for i in range(12): print(f\"{i}: {fact(i)}\")"
   ]
  },
  {
   "cell_type": "markdown",
   "metadata": {},
   "source": [
    "Can you write the factorial function in iterative form (a loop)? Write it below:"
   ]
  },
  {
   "cell_type": "code",
   "execution_count": null,
   "metadata": {},
   "outputs": [],
   "source": [
    "def fact_i(n:)\n",
    "\n",
    "\n",
    "\n"
   ]
  },
  {
   "cell_type": "markdown",
   "metadata": {},
   "source": [
    "# Classic sorts\n",
    "\n",
    "Here are two famous **sorting algorithms** in computer science. A [bubble sort](https://en.wikipedia.org/wiki/Bubble_sort), a simple sorting algorithm that repeatedly steps through the list, compares adjacent pairs and swaps them if they are in the wrong order, with the pass repeated through the list until the list is sorted, is most often implemented iteratively. \n",
    "\n",
    "A [merge sort](https://en.wikipedia.org/wiki/Merge_sort), a divide and conquer algorithm that was invented by John von Neumann in 1945, which divides the unsorted list into n sublists, each containing one element (a list of one element is considered sorted), then repeatedly merges sublists to produce new sorted sublists until there is only one sublist remaining, the sorted list, is implemented recursively.\n",
    "\n",
    "Here's the code for both:"
   ]
  },
  {
   "cell_type": "code",
   "execution_count": null,
   "metadata": {},
   "outputs": [],
   "source": [
    "from random import choices\n",
    "nums = choices(range(1_000_000), k=8000)"
   ]
  },
  {
   "cell_type": "code",
   "execution_count": null,
   "metadata": {},
   "outputs": [],
   "source": [
    "len(nums)"
   ]
  },
  {
   "cell_type": "code",
   "execution_count": null,
   "metadata": {},
   "outputs": [],
   "source": [
    "def bubble_sort(alist):\n",
    "    for passnum in range(len(alist)-1, 0, -1):\n",
    "        for i in range(passnum):\n",
    "            if alist[i] > alist[i+1]:\n",
    "                temp = alist[i]\n",
    "                alist[i] = alist[i+1]\n",
    "                alist[i+1] = temp"
   ]
  },
  {
   "cell_type": "markdown",
   "metadata": {},
   "source": [
    "The `%%time` command benchmarks our code:"
   ]
  },
  {
   "cell_type": "code",
   "execution_count": null,
   "metadata": {},
   "outputs": [],
   "source": [
    "%%time\n",
    "bubble_sort(nums)"
   ]
  },
  {
   "cell_type": "code",
   "execution_count": null,
   "metadata": {},
   "outputs": [],
   "source": [
    "','.join([str(x) for x in nums[0:100]])"
   ]
  },
  {
   "cell_type": "code",
   "execution_count": null,
   "metadata": {},
   "outputs": [],
   "source": [
    "def merge_sort(alist):\n",
    "    #print(\"Splitting \", alist)\n",
    "    \n",
    "    if len(alist) > 1:\n",
    "        mid = len(alist)//2\n",
    "        lefthalf = alist[:mid]\n",
    "        righthalf = alist[mid:]\n",
    "        \n",
    "        merge_sort(lefthalf)\n",
    "        merge_sort(righthalf)\n",
    "        \n",
    "        i = 0\n",
    "        j = 0\n",
    "        k = 0\n",
    "        \n",
    "        while i < len(lefthalf) and j < len(righthalf):\n",
    "            if lefthalf[i] < righthalf[j]:\n",
    "                alist[k] = lefthalf[i]\n",
    "                i += 1\n",
    "            else:\n",
    "                alist[k] = righthalf[j]\n",
    "                j += 1\n",
    "                \n",
    "            k += 1\n",
    "                \n",
    "        while i < len(lefthalf):\n",
    "            alist[k] = lefthalf[i]\n",
    "            i += 1\n",
    "            k += 1\n",
    "            \n",
    "        while j < len(righthalf):\n",
    "            alist[k] = righthalf[j]\n",
    "            j += 1\n",
    "            k += 1"
   ]
  },
  {
   "cell_type": "code",
   "execution_count": null,
   "metadata": {},
   "outputs": [],
   "source": [
    "%%time\n",
    "merge_sort(nums)"
   ]
  },
  {
   "cell_type": "code",
   "execution_count": null,
   "metadata": {},
   "outputs": [],
   "source": [
    "','.join([str(x) for x in nums[0:100]])"
   ]
  },
  {
   "cell_type": "markdown",
   "metadata": {},
   "source": [
    "quite a difference!\n",
    "\n",
    "# Drawing the fern\n",
    "And finally, here's how to draw the fern:"
   ]
  },
  {
   "cell_type": "code",
   "execution_count": null,
   "metadata": {},
   "outputs": [],
   "source": [
    "def draw_plant(actions, turtle):\n",
    "    stk = []\n",
    "    for action in actions:\n",
    "        if action=='X':        # do nothing\n",
    "            pass\n",
    "        elif action== 'F':     # go forward\n",
    "            turtle.forward(2)\n",
    "        elif action=='+':      # rotate right by 25 degrees\n",
    "            turtle.right(25)\n",
    "        elif action=='-':      # rotate left by 25 degrees\n",
    "            turtle.left(25)\n",
    "        elif action=='[':\n",
    "            # save the position and heading by \"pushing\" down on to the stack\n",
    "            pos = turtle.position()\n",
    "            head = turtle.heading()\n",
    "            stk.append((pos, head))\n",
    "        elif action==']':\n",
    "            # restore position and heading: by \"popping\" off the first item from stack\n",
    "            pos, head = stk.pop()\n",
    "            turtle.penup()\n",
    "            turtle.setposition(pos)\n",
    "            turtle.setheading(head)\n",
    "            turtle.pendown()\n",
    "        else:\n",
    "            raise ValueError(\"don't recognize action\", action)\n",
    "        \n",
    "    turtle.update()\n"
   ]
  },
  {
   "cell_type": "code",
   "execution_count": null,
   "metadata": {},
   "outputs": [],
   "source": [
    "from turtle import Turtle\n",
    "\n",
    "my_turtle = Turtle()\n",
    "\n",
    "print(\"n = 0\", \"X\", \"[ 1 ]\")\n",
    "plant=plant_growth(6, output=\"X\", show=False)\n",
    "\n",
    "# get initial position\n",
    "x = 0\n",
    "y = -turtle.window_height() / 2\n",
    "#y = 100\n",
    "\n",
    "my_turtle.hideturtle()\n",
    "my_turtle.left(90)\n",
    "my_turtle.penup()\n",
    "my_turtle.goto(x, y)\n",
    "my_turtle.pendown()\n",
    "draw_plant(plant, my_turtle)"
   ]
  },
  {
   "cell_type": "markdown",
   "metadata": {},
   "source": [
    "# Conclusion\n",
    "\n",
    "Spend some time with this code. Run each cell many times and undeerstand what it does.\n",
    "\n",
    "Code is beautiful.\n",
    "\n",
    "Code is how the machinery of life runs!"
   ]
  }
 ],
 "metadata": {
  "kernelspec": {
   "display_name": "Python 3",
   "language": "python",
   "name": "python3"
  },
  "language_info": {
   "codemirror_mode": {
    "name": "ipython",
    "version": 3
   },
   "file_extension": ".py",
   "mimetype": "text/x-python",
   "name": "python",
   "nbconvert_exporter": "python",
   "pygments_lexer": "ipython3",
   "version": "3.6.9"
  }
 },
 "nbformat": 4,
 "nbformat_minor": 1
}
